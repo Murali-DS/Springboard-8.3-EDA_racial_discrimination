{
 "cells": [
  {
   "cell_type": "markdown",
   "metadata": {},
   "source": [
    "# Examining Racial Discrimination in the US Job Market\n",
    "\n",
    "### Background\n",
    "Racial discrimination continues to be pervasive in cultures throughout the world. Researchers examined the level of racial discrimination in the United States labor market by randomly assigning identical résumés to black-sounding or white-sounding names and observing the impact on requests for interviews from employers.\n",
    "\n",
    "### Data\n",
    "In the dataset provided, each row represents a resume. The 'race' column has two values, 'b' and 'w', indicating black-sounding and white-sounding. The column 'call' has two values, 1 and 0, indicating whether the resume received a call from employers or not.\n",
    "\n",
    "Note that the 'b' and 'w' values in race are assigned randomly to the resumes when presented to the employer."
   ]
  },
  {
   "cell_type": "markdown",
   "metadata": {},
   "source": [
    "### Exercises\n",
    "You will perform a statistical analysis to establish whether race has a significant impact on the rate of callbacks for resumes.\n",
    "\n",
    "Answer the following questions **in this notebook below and submit to your Github account**. \n",
    "\n",
    "   1. What test is appropriate for this problem? Does CLT apply?\n",
    "   2. What are the null and alternate hypotheses?\n",
    "   3. Compute margin of error, confidence interval, and p-value. Try using both the bootstrapping and the frequentist statistical approaches.\n",
    "   4. Write a story describing the statistical significance in the context or the original problem.\n",
    "   5. Does your analysis mean that race/name is the most important factor in callback success? Why or why not? If not, how would you amend your analysis?\n",
    "\n",
    "You can include written notes in notebook cells using Markdown: \n",
    "   - In the control panel at the top, choose Cell > Cell Type > Markdown\n",
    "   - Markdown syntax: http://nestacms.com/docs/creating-content/markdown-cheat-sheet\n",
    "\n",
    "#### Resources\n",
    "+ Experiment information and data source: http://www.povertyactionlab.org/evaluation/discrimination-job-market-united-states\n",
    "+ Scipy statistical methods: http://docs.scipy.org/doc/scipy/reference/stats.html \n",
    "+ Markdown syntax: http://nestacms.com/docs/creating-content/markdown-cheat-sheet\n",
    "+ Formulas for the Bernoulli distribution: https://en.wikipedia.org/wiki/Bernoulli_distribution"
   ]
  },
  {
   "cell_type": "code",
   "execution_count": 1,
   "metadata": {
    "collapsed": true
   },
   "outputs": [],
   "source": [
    "import pandas as pd\n",
    "import numpy as np\n",
    "from scipy import stats\n",
    "from IPython.display import display\n",
    "import seaborn as sns\n",
    "import matplotlib.pyplot as plt\n",
    "data = pd.io.stata.read_stata('data/us_job_market_discrimination.dta')"
   ]
  },
  {
   "cell_type": "code",
   "execution_count": 2,
   "metadata": {},
   "outputs": [
    {
     "name": "stdout",
     "output_type": "stream",
     "text": [
      "Number of callbacks for black-sounding names is 157.0\n"
     ]
    },
    {
     "data": {
      "text/html": [
       "<div>\n",
       "<style>\n",
       "    .dataframe thead tr:only-child th {\n",
       "        text-align: right;\n",
       "    }\n",
       "\n",
       "    .dataframe thead th {\n",
       "        text-align: left;\n",
       "    }\n",
       "\n",
       "    .dataframe tbody tr th {\n",
       "        vertical-align: top;\n",
       "    }\n",
       "</style>\n",
       "<table border=\"1\" class=\"dataframe\">\n",
       "  <thead>\n",
       "    <tr style=\"text-align: right;\">\n",
       "      <th></th>\n",
       "      <th>id</th>\n",
       "      <th>ad</th>\n",
       "      <th>education</th>\n",
       "      <th>ofjobs</th>\n",
       "      <th>yearsexp</th>\n",
       "      <th>honors</th>\n",
       "      <th>volunteer</th>\n",
       "      <th>military</th>\n",
       "      <th>empholes</th>\n",
       "      <th>occupspecific</th>\n",
       "      <th>...</th>\n",
       "      <th>compreq</th>\n",
       "      <th>orgreq</th>\n",
       "      <th>manuf</th>\n",
       "      <th>transcom</th>\n",
       "      <th>bankreal</th>\n",
       "      <th>trade</th>\n",
       "      <th>busservice</th>\n",
       "      <th>othservice</th>\n",
       "      <th>missind</th>\n",
       "      <th>ownership</th>\n",
       "    </tr>\n",
       "  </thead>\n",
       "  <tbody>\n",
       "    <tr>\n",
       "      <th>0</th>\n",
       "      <td>b</td>\n",
       "      <td>1</td>\n",
       "      <td>4</td>\n",
       "      <td>2</td>\n",
       "      <td>6</td>\n",
       "      <td>0</td>\n",
       "      <td>0</td>\n",
       "      <td>0</td>\n",
       "      <td>1</td>\n",
       "      <td>17</td>\n",
       "      <td>...</td>\n",
       "      <td>1.0</td>\n",
       "      <td>0.0</td>\n",
       "      <td>1.0</td>\n",
       "      <td>0.0</td>\n",
       "      <td>0.0</td>\n",
       "      <td>0.0</td>\n",
       "      <td>0.0</td>\n",
       "      <td>0.0</td>\n",
       "      <td>0.0</td>\n",
       "      <td></td>\n",
       "    </tr>\n",
       "    <tr>\n",
       "      <th>1</th>\n",
       "      <td>b</td>\n",
       "      <td>1</td>\n",
       "      <td>3</td>\n",
       "      <td>3</td>\n",
       "      <td>6</td>\n",
       "      <td>0</td>\n",
       "      <td>1</td>\n",
       "      <td>1</td>\n",
       "      <td>0</td>\n",
       "      <td>316</td>\n",
       "      <td>...</td>\n",
       "      <td>1.0</td>\n",
       "      <td>0.0</td>\n",
       "      <td>1.0</td>\n",
       "      <td>0.0</td>\n",
       "      <td>0.0</td>\n",
       "      <td>0.0</td>\n",
       "      <td>0.0</td>\n",
       "      <td>0.0</td>\n",
       "      <td>0.0</td>\n",
       "      <td></td>\n",
       "    </tr>\n",
       "    <tr>\n",
       "      <th>2</th>\n",
       "      <td>b</td>\n",
       "      <td>1</td>\n",
       "      <td>4</td>\n",
       "      <td>1</td>\n",
       "      <td>6</td>\n",
       "      <td>0</td>\n",
       "      <td>0</td>\n",
       "      <td>0</td>\n",
       "      <td>0</td>\n",
       "      <td>19</td>\n",
       "      <td>...</td>\n",
       "      <td>1.0</td>\n",
       "      <td>0.0</td>\n",
       "      <td>1.0</td>\n",
       "      <td>0.0</td>\n",
       "      <td>0.0</td>\n",
       "      <td>0.0</td>\n",
       "      <td>0.0</td>\n",
       "      <td>0.0</td>\n",
       "      <td>0.0</td>\n",
       "      <td></td>\n",
       "    </tr>\n",
       "    <tr>\n",
       "      <th>3</th>\n",
       "      <td>b</td>\n",
       "      <td>1</td>\n",
       "      <td>3</td>\n",
       "      <td>4</td>\n",
       "      <td>6</td>\n",
       "      <td>0</td>\n",
       "      <td>1</td>\n",
       "      <td>0</td>\n",
       "      <td>1</td>\n",
       "      <td>313</td>\n",
       "      <td>...</td>\n",
       "      <td>1.0</td>\n",
       "      <td>0.0</td>\n",
       "      <td>1.0</td>\n",
       "      <td>0.0</td>\n",
       "      <td>0.0</td>\n",
       "      <td>0.0</td>\n",
       "      <td>0.0</td>\n",
       "      <td>0.0</td>\n",
       "      <td>0.0</td>\n",
       "      <td></td>\n",
       "    </tr>\n",
       "    <tr>\n",
       "      <th>4</th>\n",
       "      <td>b</td>\n",
       "      <td>1</td>\n",
       "      <td>3</td>\n",
       "      <td>3</td>\n",
       "      <td>22</td>\n",
       "      <td>0</td>\n",
       "      <td>0</td>\n",
       "      <td>0</td>\n",
       "      <td>0</td>\n",
       "      <td>313</td>\n",
       "      <td>...</td>\n",
       "      <td>1.0</td>\n",
       "      <td>1.0</td>\n",
       "      <td>0.0</td>\n",
       "      <td>0.0</td>\n",
       "      <td>0.0</td>\n",
       "      <td>0.0</td>\n",
       "      <td>0.0</td>\n",
       "      <td>1.0</td>\n",
       "      <td>0.0</td>\n",
       "      <td>Nonprofit</td>\n",
       "    </tr>\n",
       "  </tbody>\n",
       "</table>\n",
       "<p>5 rows × 65 columns</p>\n",
       "</div>"
      ],
      "text/plain": [
       "  id ad  education  ofjobs  yearsexp  honors  volunteer  military  empholes  \\\n",
       "0  b  1          4       2         6       0          0         0         1   \n",
       "1  b  1          3       3         6       0          1         1         0   \n",
       "2  b  1          4       1         6       0          0         0         0   \n",
       "3  b  1          3       4         6       0          1         0         1   \n",
       "4  b  1          3       3        22       0          0         0         0   \n",
       "\n",
       "   occupspecific    ...      compreq  orgreq  manuf  transcom  bankreal trade  \\\n",
       "0             17    ...          1.0     0.0    1.0       0.0       0.0   0.0   \n",
       "1            316    ...          1.0     0.0    1.0       0.0       0.0   0.0   \n",
       "2             19    ...          1.0     0.0    1.0       0.0       0.0   0.0   \n",
       "3            313    ...          1.0     0.0    1.0       0.0       0.0   0.0   \n",
       "4            313    ...          1.0     1.0    0.0       0.0       0.0   0.0   \n",
       "\n",
       "  busservice othservice  missind  ownership  \n",
       "0        0.0        0.0      0.0             \n",
       "1        0.0        0.0      0.0             \n",
       "2        0.0        0.0      0.0             \n",
       "3        0.0        0.0      0.0             \n",
       "4        0.0        1.0      0.0  Nonprofit  \n",
       "\n",
       "[5 rows x 65 columns]"
      ]
     },
     "metadata": {},
     "output_type": "display_data"
    },
    {
     "data": {
      "text/plain": [
       "Index(['id', 'ad', 'education', 'ofjobs', 'yearsexp', 'honors', 'volunteer',\n",
       "       'military', 'empholes', 'occupspecific', 'occupbroad', 'workinschool',\n",
       "       'email', 'computerskills', 'specialskills', 'firstname', 'sex', 'race',\n",
       "       'h', 'l', 'call', 'city', 'kind', 'adid', 'fracblack', 'fracwhite',\n",
       "       'lmedhhinc', 'fracdropout', 'fraccolp', 'linc', 'col', 'expminreq',\n",
       "       'schoolreq', 'eoe', 'parent_sales', 'parent_emp', 'branch_sales',\n",
       "       'branch_emp', 'fed', 'fracblack_empzip', 'fracwhite_empzip',\n",
       "       'lmedhhinc_empzip', 'fracdropout_empzip', 'fraccolp_empzip',\n",
       "       'linc_empzip', 'manager', 'supervisor', 'secretary', 'offsupport',\n",
       "       'salesrep', 'retailsales', 'req', 'expreq', 'comreq', 'educreq',\n",
       "       'compreq', 'orgreq', 'manuf', 'transcom', 'bankreal', 'trade',\n",
       "       'busservice', 'othservice', 'missind', 'ownership'],\n",
       "      dtype='object')"
      ]
     },
     "metadata": {},
     "output_type": "display_data"
    }
   ],
   "source": [
    "# number of callbacks for black-sounding names\n",
    "_ = sum(data[data.race=='b'].call)\n",
    "print(f'Number of callbacks for black-sounding names is {_}')\n",
    "display(data.head())\n",
    "display(data.columns)"
   ]
  },
  {
   "cell_type": "markdown",
   "metadata": {
    "collapsed": true
   },
   "source": [
    "<div class=\"span5 alert alert-success\">\n",
    "<p>Your answers to Q1 and Q2 here</p>\n",
    "</div>"
   ]
  },
  {
   "cell_type": "markdown",
   "metadata": {},
   "source": [
    "# What test is appropriate? Does CLT apply?"
   ]
  },
  {
   "cell_type": "markdown",
   "metadata": {},
   "source": [
    "### z-test (or) bootstrap test would be appropriate.\n",
    "\n",
    "Lets define two statistics: \n",
    "1. Mu-b, Fraction of the African-American candidates who are invited for job interviews\n",
    "2. Mu-w, Fraction of the European-American candidates who are invited for job interviews.\n",
    "\n",
    "The question is, are Mu-b and Mu-W same?\n",
    "\n",
    "The following 3 conditions are to be satisfied before one can perform inference on these mean:\n",
    "\n",
    "1. Random sample (or) randomized experiment should be used.\n",
    "2. Mean of the sample needs to be approximately normal. This is true if the parent population is normal or if the sample is reasonably large (n>= 30).\n",
    "The sample size is 2435, well above 30. \n",
    "3. Individual observa\"ons need to be independent. If sampling without replacement, our sample size shouldn't be more than 10% of the population.\n",
    "The population of African & European Americans is well above millions. The sample size selected here is well below the 10% threshold.\n"
   ]
  },
  {
   "cell_type": "code",
   "execution_count": 3,
   "metadata": {
    "collapsed": true
   },
   "outputs": [],
   "source": [
    "def make_histogram(data, x_label, y_label, fig_no, kde_var=False, **kwargs):\n",
    "    plt.figure(fig_no, figsize=(8,5))\n",
    "    #no_of_bins = int(len(data)**0.5) # Calculate bins sqrt(len(data))\n",
    "    no_of_bins = 30\n",
    "    x = sns.distplot(data, hist=True, kde=kde_var, rug=False)\n",
    "    _ = plt.xlabel(x_label)\n",
    "    _ = plt.ylabel(y_label)\n",
    "    if 'xlimits' in kwargs:\n",
    "        _ = plt.xlim(kwargs['xlimits'])\n",
    "    else:\n",
    "        plt.margins(0.02)\n",
    "    \n",
    "    if 'title' in kwargs:\n",
    "        _ = plt.title(kwargs['title'], fontsize=16)\n",
    "    \n",
    "    plt.axvline(np.mean(data), color='k', linestyle='dashed', linewidth=1)\n",
    "    plt.axvline(np.median(data), color='r', linestyle='dashed', linewidth=1)\n",
    "    \n",
    "     \n",
    "    ymin, ymax = plt.ylim()\n",
    "    xmin, xmax = plt.xlim()\n",
    "    yrange = ymax - ymin\n",
    "    xrange = xmax - xmin\n",
    "    mean_string = \"Mean (black line) is {}\".format(round(np.mean(data),2))\n",
    "    median_string = \"Median (red line) is {}\".format(round(np.median(data),2))\n",
    "    std_string = \"Std. Dev is {}\".format(round(np.std(data),2))\n",
    "    plt.annotate(mean_string, xy = (np.mean(data), ymax), xytext = (xmin+xrange*0.7, ymin+yrange*0.7))\n",
    "    plt.annotate(median_string, xy = (np.median(data), ymax), xytext = (xmin+xrange*0.7, ymin+yrange*0.6))\n",
    "    plt.annotate(std_string, xy = (np.median(data), ymax), xytext = (xmin+xrange*0.7, ymin+yrange*0.5))\n",
    "    \n",
    "    if 'obs_statistic' in kwargs:\n",
    "        plt.axvline(kwargs['obs_statistic'], color='b', linestyle='dashed', linewidth=1)\n",
    "        plt.axvline(0-kwargs['obs_statistic'], color='b', linestyle='dashed', linewidth=1)\n",
    "        plt.annotate('Observed Statistic in Blue Line', xy = (np.median(data), ymax), \n",
    "                     xytext = (xmin+xrange*0.1, ymin+yrange*0.5))\n",
    "   \n",
    "    plt.show()"
   ]
  },
  {
   "cell_type": "code",
   "execution_count": 4,
   "metadata": {},
   "outputs": [
    {
     "name": "stdout",
     "output_type": "stream",
     "text": [
      "# of white samples is 2435\n",
      "# of black samples is 2435\n"
     ]
    }
   ],
   "source": [
    "w = data[data.race=='w']\n",
    "b = data[data.race=='b']\n",
    "print(f'# of white samples is {w.shape[0]}')\n",
    "print(f'# of black samples is {b.shape[0]}')"
   ]
  },
  {
   "cell_type": "markdown",
   "metadata": {},
   "source": [
    "# What are the null and alternate hypotheses?"
   ]
  },
  {
   "cell_type": "markdown",
   "metadata": {},
   "source": [
    "Lets define three statistics: \n",
    "1. mu_b, Fraction of the African-American candidates who are invited for job interviews\n",
    "2. mu_w, Fraction of the European-American candidates who are invited for job interviews.\n",
    "3. mu_diff = mu_w - mu_b, Difference in the fraction of calls recieved by European & African Americans. \n",
    "\n",
    "Null Hypothesis: mu_diff = 0 <br/>\n",
    "Alternative Hypothesis: mu_diff > 0"
   ]
  },
  {
   "cell_type": "markdown",
   "metadata": {
    "collapsed": true
   },
   "source": [
    "# Compute margin of error, confidence interval, and p-value. Try using both the bootstrapping and the frequentist statistical approaches."
   ]
  },
  {
   "cell_type": "markdown",
   "metadata": {},
   "source": [
    "## Frequentist Statistical Approach\n",
    "\n",
    "Where a candidate will be called for interview or not is a binomial random variable based on:\n",
    "\n",
    "1. Independent trials\n",
    "2. Each trial can only result in being called (1) or not (0).\n",
    "3. Fixed number of trials.\n",
    "4. Probability of success is constant."
   ]
  },
  {
   "cell_type": "code",
   "execution_count": 5,
   "metadata": {},
   "outputs": [
    {
     "name": "stdout",
     "output_type": "stream",
     "text": [
      "3. p-value = 0.002%\n",
      "4. alpha (or) Margin of error = 1.0%\n",
      "5. 99% conf interval for diff in the mean call rate of European & African Americans is 0.032 +/- 0.02\n",
      "6. p-value= 0.002% is < Alpha 1.0%, Reject Null Hypothesis: Call rate of European Americans is equal to that of African Americans\n"
     ]
    }
   ],
   "source": [
    "alpha = 0.01\n",
    "\n",
    "\n",
    "def frac_diff(data):\n",
    "    w = data[data.race=='w']\n",
    "    b = data[data.race=='b']\n",
    "    fraction_calls_b = sum(b.call)/b.shape[0]\n",
    "    fraction_calls_w = sum(w.call)/w.shape[0]\n",
    "    std_fraction_calls_b = ( fraction_calls_b*(1-fraction_calls_b)/b.shape[0] )**0.5 # Std of population mean\n",
    "    std_fraction_calls_w = ( fraction_calls_w*(1-fraction_calls_w)/w.shape[0] )**0.5\n",
    "    #print(f'1. For African Americans, Mean call fraction is {round(fraction_calls_b,3)} and std.dev of {round(std_fraction_calls_b,4)}')\n",
    "    #print(f'2. For European Americans, Mean call fraction is {round(fraction_calls_w,3)} and std.dev of {round(std_fraction_calls_w,4)}')\n",
    "    #print('======================')\n",
    "    fraction_diff = fraction_calls_w - fraction_calls_b\n",
    "    std_fraction_diff = (std_fraction_calls_b**2 + std_fraction_calls_w**2)**0.5\n",
    "    frac_results = (fraction_diff, std_fraction_diff)\n",
    "    return frac_results\n",
    "\n",
    "diff_frac_obs, std_diff_frac = frac_diff(data)\n",
    "diff_frac_exp = 0\n",
    "z_score = (diff_frac_obs - diff_frac_exp)/std_diff_frac\n",
    "p_value = 1 - stats.norm.cdf(z_score)\n",
    "\n",
    "print(f'3. p-value = {round(p_value,5)*100}%')\n",
    "print(f'4. alpha (or) Margin of error = {alpha * 100}%')\n",
    "print(f'5. 99% conf interval for diff in the mean call rate of European & African Americans is {round(diff_frac_obs,4)} +/- {round(2.57*std_diff_frac, 4)}')\n",
    "#print(f'{round(fraction_diff_obs,4)} +/- {round(2.57*std_fraction_diff, 4)}')\n",
    "\n",
    "if (p_value < alpha):\n",
    "    print(f'6. p-value= {round(p_value,5)*100}% is < Alpha {alpha*100}%, Reject Null Hypothesis'\n",
    "          ': Call rate of European Americans is equal to that of African Americans')\n",
    "else:\n",
    "    print(f'6. p-value= {round(p_value,5)*100}% is <= Alpha {alpha*100}, Do not reject Null Hypothesis'\n",
    "          ': Call rate of European Americans is equal to that of African Americans')"
   ]
  },
  {
   "cell_type": "markdown",
   "metadata": {},
   "source": [
    "## Using Bootstrap Approach"
   ]
  },
  {
   "cell_type": "code",
   "execution_count": 6,
   "metadata": {},
   "outputs": [
    {
     "name": "stdout",
     "output_type": "stream",
     "text": [
      "0.0\n",
      "6. p-value= 0.0% is < Alpha 1.0%, Reject Null Hypothesis: Call rate of European Americans is equal to that of African Americans\n"
     ]
    }
   ],
   "source": [
    "no_of_simulations = 10000\n",
    "diff_frac_runs = np.empty(no_of_simulations)\n",
    "for i in range(no_of_simulations):\n",
    "    race_temp = np.random.choice(data['race'], len(data['race']))\n",
    "    call_temp = np.random.choice(data['call'], len(data['call']))\n",
    "    df_temp = pd.DataFrame({'race':race_temp, 'call':call_temp})\n",
    "    _, diff_frac_runs[i]=frac_diff(df_temp)\n",
    "\n",
    "p_value = np.sum(diff_frac_runs>diff_frac_obs)/no_of_simulations\n",
    "print(p_value)\n",
    "if (p_value < alpha):\n",
    "    print(f'6. p-value= {round(p_value,5)*100}% is < Alpha {alpha*100}%, Reject Null Hypothesis'\n",
    "          ': Call rate of European Americans is equal to that of African Americans')\n",
    "else:\n",
    "    print(f'6. p-value= {round(p_value,5)*100}% is <= Alpha {alpha*100}, Do not reject Null Hypothesis'\n",
    "          ': Call rate of European Americans is equal to that of African Americans')"
   ]
  },
  {
   "cell_type": "code",
   "execution_count": 7,
   "metadata": {
    "scrolled": true
   },
   "outputs": [
    {
     "data": {
      "image/png": "[encoded data removed]",
      "text/plain": [
       "<matplotlib.figure.Figure at 0x117bdf7b8>"
      ]
     },
     "metadata": {},
     "output_type": "display_data"
    }
   ],
   "source": [
    "make_histogram(diff_frac_runs, 'Diff in Frac of Calls', 'Count', 1, kde_var=True, xlimits=[-0.05, 0.05])"
   ]
  },
  {
   "cell_type": "markdown",
   "metadata": {},
   "source": [
    "<div class=\"span5 alert alert-success\">\n",
    "<p> Your answers to Q4 and Q5 here </p>\n",
    "</div>"
   ]
  },
  {
   "cell_type": "markdown",
   "metadata": {},
   "source": [
    "# 4. Write a story describing the statistical significance in the context or the original problem."
   ]
  },
  {
   "cell_type": "markdown",
   "metadata": {},
   "source": [
    "Statistical significance in this analysis refers to the p-value.\n",
    "The call rate for black sounding names was 6.4% and those for white sounding names was 9.7%. The question: is the difference of 3.2% explainable by random chance?\n",
    "The p-value came out to be 0.002% (frequentist approach) and 0% (bootstrap approach). This means that the probability of getting the observed call rate of 3.2% purely by chance is 0% or close to it."
   ]
  },
  {
   "cell_type": "markdown",
   "metadata": {},
   "source": [
    "# 5. Does your analysis mean that race/name is the most important factor in callback success? Why or why not? If not, how would you amend your analysis?"
   ]
  },
  {
   "cell_type": "markdown",
   "metadata": {},
   "source": [
    "Chance alone cannot describe the higher call rate for white sounding names when compared to black sounding names. This does not mean that race (or) name is the most important factor. There are 63 other variables. One has to look if any of them can explain this variation. Perhaps a regression analysis needs to be performed to study the impact of other variables."
   ]
  }
 ],
 "metadata": {
  "kernelspec": {
   "display_name": "Python 3",
   "language": "python",
   "name": "python3"
  },
  "language_info": {
   "codemirror_mode": {
    "name": "ipython",
    "version": 3
   },
   "file_extension": ".py",
   "mimetype": "text/x-python",
   "name": "python",
   "nbconvert_exporter": "python",
   "pygments_lexer": "ipython3",
   "version": "3.6.1"
  }
 },
 "nbformat": 4,
 "nbformat_minor": 1
}
